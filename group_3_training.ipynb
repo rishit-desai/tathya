{
 "cells": [
  {
   "cell_type": "code",
   "execution_count": 4,
   "id": "77994192",
   "metadata": {},
   "outputs": [],
   "source": [
    "import os\n",
    "\n",
    "os.environ[\"KMP_DUPLICATE_LIB_OK\"] = \"True\"\n",
    "from sklearn.metrics import confusion_matrix\n",
    "from sklearn.model_selection import train_test_split\n",
    "import matplotlib.pyplot as plt\n",
    "import seaborn as sns\n",
    "import pandas as pd\n",
    "import numpy as np\n",
    "import torch\n",
    "from torch.utils.data import Dataset, DataLoader\n",
    "from transformers import (\n",
    "    BertTokenizer,\n",
    "    BertModel,\n",
    "    AdamW,\n",
    "    get_linear_schedule_with_warmup,\n",
    ")\n",
    "import json\n",
    "from tqdm import tqdm  #   For progress bars\n",
    "from typing import List, Dict, Tuple\n",
    "\n",
    "\n",
    "\n",
    "\n",
    "NUM_VAGUENESS_LABLES = 2\n",
    "\n",
    "NUM_READABILITY_LABELS = 6\n",
    "\n",
    "\n",
    "\n",
    "\n",
    "\n",
    "BERT_MODEL_NAME = \"bert-base-uncased\"\n",
    "\n",
    "MAX_LEN = 512\n",
    "\n",
    "BATCH_SIZE = 10\n",
    "\n",
    "EPOCHS = 5\n",
    "\n",
    "LEARNING_RATE = 2e-5\n",
    "\n",
    "DATASET_SIZE = 1000"
   ]
  },
  {
   "cell_type": "code",
   "execution_count": 5,
   "id": "e6151f98",
   "metadata": {},
   "outputs": [],
   "source": [
    "#   1. Data Loading and Preprocessing\n",
    "def load_data(file_paths):\n",
    "    \"\"\"Loads data from JSON files.\"\"\"\n",
    "    data = []\n",
    "    for file_path in file_paths:\n",
    "        with open(file_path, \"r\") as f:\n",
    "            data.append(json.load(f))\n",
    "    return data\n",
    "\n",
    "def create_multilabels(tokens: Dict[str, Dict]) -> Dict[str, List[int]]:\n",
    "    \"\"\"\n",
    "    Creates multi-labels for each token, handling missing labels.\n",
    "    \"\"\"\n",
    "    multi_labels = {}\n",
    "    for token, annotations in tokens.items():\n",
    "        vagueness = annotations.get(\"model_Vagueness\", -100)  #   Use .get() with default\n",
    "        readability = annotations.get(\"model_Readability\", -100)\n",
    "        multi_labels[token] = [vagueness, readability]\n",
    "    return multi_labels\n",
    "\n",
    "def align_labels_with_tokens(\n",
    "    tokens: List[str], labels: List[List[int]], tokenizer: BertTokenizer\n",
    ") -> Tuple[List[str], List[List[int]], List[int]]:\n",
    "    \"\"\"\n",
    "    Aligns labels with sub-word tokens produced by the BERT tokenizer.\n",
    "    Assigns the same label to all sub-words of a token.\n",
    "    \"\"\"\n",
    "\n",
    "    aligned_tokens = []\n",
    "    aligned_labels = []\n",
    "    token_masks = []\n",
    "\n",
    "    for i, token in enumerate(tokens):\n",
    "        subword_tokens = tokenizer.tokenize(\n",
    "            token\n",
    "        )  #   Important: No add_prefix_space here\n",
    "        token_labels = labels[i]\n",
    "        aligned_tokens.extend(subword_tokens)\n",
    "        aligned_labels.extend([token_labels] * len(subword_tokens))  #   Repeat labels\n",
    "        token_masks.extend([1] * len(subword_tokens))  # 1 for real tokens\n",
    "\n",
    "    return aligned_tokens, aligned_labels, token_masks\n",
    "\n",
    "def preprocess_data(\n",
    "    data: List[Dict], tokenizer: BertTokenizer, max_len: int\n",
    ") -> List[Dict]:\n",
    "    \"\"\"\n",
    "    Preprocesses the data, extracting tokens, text, and creating multi-labels.\n",
    "    Truncates texts to max_len tokens *after* sub-word tokenization.\n",
    "    \"\"\"\n",
    "\n",
    "    processed_data = []\n",
    "    for item in data:\n",
    "        text = \" \".join(item[\"tokens\"].keys())\n",
    "        tokens = list(item[\"tokens\"].keys())\n",
    "        labels = list(create_multilabels(item[\"tokens\"]).values())\n",
    "\n",
    "        aligned_tokens, aligned_labels, token_masks = align_labels_with_tokens(\n",
    "            tokens, labels, tokenizer\n",
    "        )\n",
    "\n",
    "        #   Truncate *aligned* tokens and labels if they exceed max_len\n",
    "        if len(aligned_tokens) > max_len:\n",
    "            aligned_tokens = aligned_tokens[:max_len]\n",
    "            aligned_labels = aligned_labels[:max_len]\n",
    "            token_masks = token_masks[:max_len]\n",
    "            text = tokenizer.decode(\n",
    "                tokenizer.convert_tokens_to_ids(aligned_tokens)\n",
    "            )  #   Reconstruct text (approximate)\n",
    "\n",
    "        processed_data.append(\n",
    "            {\n",
    "                \"text\": text,\n",
    "                \"tokens\": aligned_tokens,\n",
    "                \"labels\": aligned_labels,\n",
    "                \"token_masks\": token_masks,\n",
    "            }\n",
    "        )\n",
    "    return processed_data\n",
    "\n",
    "class TokenDataset(Dataset):\n",
    "    \"\"\"Dataset for token classification.\"\"\"\n",
    "\n",
    "    def __init__(self, texts, labels, tokenizer, max_len, token_masks):\n",
    "        self.texts = texts\n",
    "        self.labels = labels\n",
    "        self.tokenizer = tokenizer\n",
    "        self.max_len = max_len  # Store max_len\n",
    "        self.token_masks = token_masks\n",
    "\n",
    "    def __len__(self):\n",
    "        return len(self.texts)\n",
    "\n",
    "    def __getitem__(self, item):\n",
    "        text = str(self.texts[item])\n",
    "        labels = self.labels[item]\n",
    "        token_mask = self.token_masks[item]\n",
    "        encoding = self.tokenizer.encode_plus(\n",
    "            text,\n",
    "            add_special_tokens=True,\n",
    "            max_length=self.max_len,  # Use self.max_len\n",
    "            padding=\"max_length\",\n",
    "            truncation=True,\n",
    "            return_tensors=\"pt\",\n",
    "        )\n",
    "\n",
    "        padded_labels = torch.full(\n",
    "            (self.max_len, 2), -100, dtype=torch.long  # Use self.max_len\n",
    "        )\n",
    "        padded_labels[: len(labels), :] = torch.tensor(labels, dtype=torch.long)\n",
    "\n",
    "        padded_mask = torch.zeros(self.max_len, dtype=torch.long)  # Use self.max_len\n",
    "        padded_mask[: len(token_mask)] = torch.tensor(\n",
    "            token_mask, dtype=torch.long\n",
    "        )\n",
    "\n",
    "        return {\n",
    "            \"input_ids\": encoding[\"input_ids\"].flatten(),\n",
    "            \"attention_mask\": encoding[\"attention_mask\"].flatten(),\n",
    "            \"labels\": padded_labels,\n",
    "            \"token_mask\": padded_mask,\n",
    "        }\n",
    "\n",
    "class MultiLabelBERT_Readability(torch.nn.Module):\n",
    "    \"\"\"BERT model for multi-label token classification.\"\"\"\n",
    "\n",
    "    def __init__(\n",
    "        self,\n",
    "        bert_model_name,\n",
    "        num_vagueness_labels,\n",
    "        num_readability_labels\n",
    "    ):\n",
    "        super(MultiLabelBERT_Readability, self).__init__()\n",
    "        self.bert = BertModel.from_pretrained(bert_model_name)\n",
    "        self.vagueness_classifier = torch.nn.Linear(\n",
    "            self.bert.config.hidden_size, num_vagueness_labels\n",
    "        )\n",
    "        self.readability_classifier = torch.nn.Linear(\n",
    "            self.bert.config.hidden_size, num_readability_labels\n",
    "        )\n",
    "        \n",
    "\n",
    "    def forward(self, input_ids, attention_mask):\n",
    "        outputs = self.bert(input_ids, attention_mask=attention_mask)\n",
    "        sequence_output = (\n",
    "            outputs.last_hidden_state\n",
    "        )  # (batch_size, max_len, hidden_size)\n",
    "\n",
    "        vagueness_logits = self.vagueness_classifier(sequence_output)\n",
    "        readability_logits = self.readability_classifier(sequence_output)\n",
    "\n",
    "        return vagueness_logits, readability_logits"
   ]
  },
  {
   "cell_type": "code",
   "execution_count": 6,
   "id": "1fb9e5c0",
   "metadata": {},
   "outputs": [],
   "source": [
    "def train(\n",
    "    model, train_dataloader, val_dataloader, optimizer, scheduler, device, epochs\n",
    "):\n",
    "    \"\"\"Trains the model.\"\"\"\n",
    "\n",
    "    for epoch in range(epochs):\n",
    "        model.train()\n",
    "        total_train_loss = 0\n",
    "        for batch_idx, batch in enumerate(\n",
    "            tqdm(train_dataloader, desc=f\"Epoch {epoch+1}\")\n",
    "        ):\n",
    "            input_ids = batch[\"input_ids\"].to(device)\n",
    "            attention_mask = batch[\"attention_mask\"].to(device)\n",
    "            labels = batch[\"labels\"].to(device)  # Shape: (batch_size, max_len, 2)\n",
    "            token_mask = batch[\"token_mask\"].to(device)  # Shape: (batch_size, max_len)\n",
    "\n",
    "            batch_size = input_ids.shape[0]\n",
    "\n",
    "            assert labels.shape == (batch_size, MAX_LEN, 2)\n",
    "            assert token_mask.shape == (batch_size, MAX_LEN)\n",
    "\n",
    "            model.zero_grad()\n",
    "            outputs = model(input_ids, attention_mask)  # Get the raw model output\n",
    "            vagueness_logits, readability_logits = (\n",
    "                outputs[0],\n",
    "                outputs[1]\n",
    "            )  # If your model returns a tuple\n",
    "\n",
    "            vagueness_loss_fn = torch.nn.CrossEntropyLoss(ignore_index=-100)\n",
    "            readability_loss_fn = torch.nn.CrossEntropyLoss(ignore_index=-100)\n",
    "\n",
    "            #   Apply token mask to filter predictions and labels\n",
    "            #   Crucially, we flatten *before* applying the mask\n",
    "            active_vagueness_logits = vagueness_logits.view(\n",
    "                -1, NUM_VAGUENESS_LABLES\n",
    "            )  # Shape: (batch_size * max_len, num_labels)\n",
    "            active_readability_logits = readability_logits.view(\n",
    "                -1, NUM_READABILITY_LABELS\n",
    "            )\n",
    "\n",
    "            active_labels_vagueness = labels[:, :, 0].reshape(\n",
    "                -1\n",
    "            )  # Shape: (batch_size * max_len,)\n",
    "            active_labels_readability = labels[:, :, 1].reshape(-1)\n",
    "\n",
    "            assert active_vagueness_logits.shape[0] == batch_size * MAX_LEN\n",
    "            assert active_labels_vagueness.shape[0] == batch_size * MAX_LEN\n",
    "\n",
    "            #   Apply the mask *after* flattening\n",
    "            #   CRUCIAL CHANGE: Adjust mask for [CLS] token\n",
    "            active_indices = torch.where(token_mask.view(-1) == 1)[\n",
    "                0\n",
    "            ]  # Get indices of valid tokens\n",
    "            active_vagueness_logits = active_vagueness_logits[active_indices]\n",
    "            active_readability_logits = active_readability_logits[active_indices]\n",
    "\n",
    "            active_labels_vagueness = active_labels_vagueness[active_indices]\n",
    "            active_labels_readability = active_labels_readability[active_indices]\n",
    "\n",
    "            #   Check shapes *right before* loss\n",
    "            assert active_vagueness_logits.shape[0] == active_labels_vagueness.shape[0]\n",
    "\n",
    "            vagueness_loss = vagueness_loss_fn(active_vagueness_logits, active_labels_vagueness)\n",
    "            readability_loss = readability_loss_fn(\n",
    "                active_readability_logits, active_labels_readability\n",
    "            )\n",
    "            \n",
    "\n",
    "            loss = vagueness_loss + readability_loss\n",
    "            total_train_loss += loss.item()\n",
    "            loss.backward()\n",
    "            optimizer.step()\n",
    "            scheduler.step()\n",
    "\n",
    "        avg_train_loss = total_train_loss / len(train_dataloader)\n",
    "        print(f\"  Average training loss: {avg_train_loss}\")\n",
    "\n",
    "        #   Validation (Simplified - No metrics here)\n",
    "        model.eval()\n",
    "        total_val_loss = 0\n",
    "        with torch.no_grad():\n",
    "            for batch_idx, batch in enumerate(val_dataloader):\n",
    "                input_ids = batch[\"input_ids\"].to(device)\n",
    "                attention_mask = batch[\"attention_mask\"].to(device)\n",
    "                labels = batch[\"labels\"].to(device)\n",
    "                token_mask = batch[\"token_mask\"].to(device)\n",
    "\n",
    "                batch_size = input_ids.shape[0]\n",
    "\n",
    "                assert labels.shape == (batch_size, MAX_LEN, 2)\n",
    "                assert token_mask.shape == (batch_size, MAX_LEN)\n",
    "\n",
    "                outputs = model(input_ids, attention_mask)  # Get the raw model output\n",
    "                vagueness_logits, readability_logits = (\n",
    "                    outputs[0],\n",
    "                    outputs[1],\n",
    "                )  # If your model returns a tuple\n",
    "\n",
    "                # Apply token mask in validation too!\n",
    "                active_indices = torch.where(token_mask.view(-1) == 1)[\n",
    "                    0\n",
    "                ]  # Get indices of valid tokens\n",
    "\n",
    "                active_vagueness_logits = vagueness_logits.view(-1, NUM_VAGUENESS_LABLES)[\n",
    "                    active_indices\n",
    "                ]\n",
    "                active_readability_logits = readability_logits.view(\n",
    "                    -1, NUM_READABILITY_LABELS\n",
    "                )[active_indices]\n",
    "\n",
    "                active_labels_vagueness = labels[:, :, 0].reshape(-1)[active_indices]\n",
    "                active_labels_readability = labels[:, :, 1].reshape(-1)[\n",
    "                    active_indices\n",
    "                ]\n",
    "\n",
    "                # Check shapes *right before* loss\n",
    "                assert active_vagueness_logits.shape[0] == active_labels_vagueness.shape[0]\n",
    "\n",
    "                vagueness_loss = vagueness_loss_fn(active_vagueness_logits, active_labels_vagueness)\n",
    "                readability_loss = readability_loss_fn(\n",
    "                    active_readability_logits, active_labels_readability\n",
    "                )\n",
    "\n",
    "                loss = vagueness_loss + readability_loss\n",
    "                total_val_loss += loss.item()\n",
    "\n",
    "            avg_val_loss = total_val_loss / len(val_dataloader)\n",
    "            print(f\"  Average validation loss: {avg_val_loss}\")"
   ]
  },
  {
   "cell_type": "code",
   "execution_count": 7,
   "id": "e05cfee3",
   "metadata": {},
   "outputs": [],
   "source": [
    "tokenizer = BertTokenizer.from_pretrained(BERT_MODEL_NAME)"
   ]
  },
  {
   "cell_type": "code",
   "execution_count": 8,
   "id": "b849d043",
   "metadata": {},
   "outputs": [],
   "source": [
    "# pad file number to 6 digits\n",
    "file_paths = [f\"dataset/article_{i:06d}.json\" for i in range(DATASET_SIZE)]\n",
    "data = load_data(file_paths)\n",
    "tokenizer = BertTokenizer.from_pretrained(BERT_MODEL_NAME)\n",
    "processed_data = preprocess_data(data, tokenizer=tokenizer, max_len=MAX_LEN)"
   ]
  },
  {
   "cell_type": "code",
   "execution_count": 9,
   "id": "bf9cc8ad",
   "metadata": {},
   "outputs": [],
   "source": [
    "train_data, val_data = train_test_split(processed_data, test_size=0.2, random_state=42)"
   ]
  },
  {
   "cell_type": "code",
   "execution_count": 10,
   "id": "1a8a0725",
   "metadata": {},
   "outputs": [],
   "source": [
    "#   Create Datasets and DataLoaders\n",
    "train_dataset = TokenDataset(\n",
    "    texts=[item[\"text\"] for item in train_data],\n",
    "    labels=[item[\"labels\"] for item in train_data],\n",
    "    tokenizer=tokenizer,\n",
    "    max_len=MAX_LEN,\n",
    "    token_masks=[item[\"token_masks\"] for item in train_data],\n",
    ")\n",
    "val_dataset = TokenDataset(\n",
    "    texts=[item[\"text\"] for item in val_data],\n",
    "    labels=[item[\"labels\"] for item in val_data],\n",
    "    tokenizer=tokenizer,\n",
    "    max_len=MAX_LEN,\n",
    "    token_masks=[item[\"token_masks\"] for item in val_data],\n",
    ")"
   ]
  },
  {
   "cell_type": "code",
   "execution_count": 11,
   "id": "6a05f97e",
   "metadata": {},
   "outputs": [],
   "source": [
    "train_dataloader = DataLoader(train_dataset, batch_size=BATCH_SIZE, shuffle=True)\n",
    "val_dataloader = DataLoader(val_dataset, batch_size=BATCH_SIZE)"
   ]
  },
  {
   "cell_type": "code",
   "execution_count": 12,
   "id": "cbe82661",
   "metadata": {},
   "outputs": [
    {
     "name": "stderr",
     "output_type": "stream",
     "text": [
      "c:\\Users\\rishi\\.conda\\envs\\machine-learning\\Lib\\site-packages\\transformers\\optimization.py:591: FutureWarning: This implementation of AdamW is deprecated and will be removed in a future version. Use the PyTorch implementation torch.optim.AdamW instead, or set `no_deprecation_warning=True` to disable this warning\n",
      "  warnings.warn(\n"
     ]
    }
   ],
   "source": [
    "#   Initialize Model, Optimizer, and Scheduler\n",
    "device = torch.device(\"cuda\" if torch.cuda.is_available() else \"cpu\")\n",
    "model = MultiLabelBERT_Readability(\n",
    "    BERT_MODEL_NAME,\n",
    "    NUM_VAGUENESS_LABLES,\n",
    "    NUM_READABILITY_LABELS,\n",
    ").to(device)\n",
    "optimizer = AdamW(model.parameters(), lr=LEARNING_RATE)\n",
    "total_steps = len(train_dataloader) * EPOCHS\n",
    "scheduler = get_linear_schedule_with_warmup(\n",
    "    optimizer, num_warmup_steps=0, num_training_steps=total_steps\n",
    ")"
   ]
  },
  {
   "cell_type": "code",
   "execution_count": 10,
   "id": "05806333",
   "metadata": {},
   "outputs": [
    {
     "name": "stderr",
     "output_type": "stream",
     "text": [
      "Epoch 1: 100%|██████████| 80/80 [11:53<00:00,  8.92s/it]\n"
     ]
    },
    {
     "name": "stdout",
     "output_type": "stream",
     "text": [
      "  Average training loss: 2.3751244246959686\n",
      "  Average validation loss: 2.349683439731598\n"
     ]
    },
    {
     "name": "stderr",
     "output_type": "stream",
     "text": [
      "Epoch 2: 100%|██████████| 80/80 [12:49<00:00,  9.61s/it]\n"
     ]
    },
    {
     "name": "stdout",
     "output_type": "stream",
     "text": [
      "  Average training loss: 2.3199102520942687\n",
      "  Average validation loss: 2.3166113972663878\n"
     ]
    },
    {
     "name": "stderr",
     "output_type": "stream",
     "text": [
      "Epoch 3: 100%|██████████| 80/80 [12:49<00:00,  9.62s/it]\n"
     ]
    },
    {
     "name": "stdout",
     "output_type": "stream",
     "text": [
      "  Average training loss: 2.3019527554512025\n",
      "  Average validation loss: 2.3166237592697145\n"
     ]
    },
    {
     "name": "stderr",
     "output_type": "stream",
     "text": [
      "Epoch 4: 100%|██████████| 80/80 [12:54<00:00,  9.69s/it]\n"
     ]
    },
    {
     "name": "stdout",
     "output_type": "stream",
     "text": [
      "  Average training loss: 2.278413674235344\n",
      "  Average validation loss: 2.30225750207901\n"
     ]
    },
    {
     "name": "stderr",
     "output_type": "stream",
     "text": [
      "Epoch 5: 100%|██████████| 80/80 [12:48<00:00,  9.61s/it]\n"
     ]
    },
    {
     "name": "stdout",
     "output_type": "stream",
     "text": [
      "  Average training loss: 2.249984559416771\n",
      "  Average validation loss: 2.32020218372345\n"
     ]
    }
   ],
   "source": [
    "#   Train the Model\n",
    "train(model, train_dataloader, val_dataloader, optimizer, scheduler, device, EPOCHS)"
   ]
  },
  {
   "cell_type": "code",
   "execution_count": 13,
   "id": "1da00908",
   "metadata": {},
   "outputs": [],
   "source": [
    "model_path = \"group_3_model.pth\""
   ]
  },
  {
   "cell_type": "code",
   "execution_count": 14,
   "id": "520fa9a7",
   "metadata": {},
   "outputs": [
    {
     "name": "stdout",
     "output_type": "stream",
     "text": [
      "Model saved to group_3_model.pth\n"
     ]
    }
   ],
   "source": [
    "# save the torch model\n",
    "torch.save(model.state_dict(), model_path)\n",
    "print(f\"Model saved to {model_path}\")"
   ]
  },
  {
   "cell_type": "code",
   "execution_count": 15,
   "id": "9928b450",
   "metadata": {},
   "outputs": [
    {
     "name": "stderr",
     "output_type": "stream",
     "text": [
      "C:\\Users\\rishi\\AppData\\Local\\Temp\\ipykernel_39448\\1244346527.py:8: FutureWarning: You are using `torch.load` with `weights_only=False` (the current default value), which uses the default pickle module implicitly. It is possible to construct malicious pickle data which will execute arbitrary code during unpickling (See https://github.com/pytorch/pytorch/blob/main/SECURITY.md#untrusted-models for more details). In a future release, the default value for `weights_only` will be flipped to `True`. This limits the functions that could be executed during unpickling. Arbitrary objects will no longer be allowed to be loaded via this mode unless they are explicitly allowlisted by the user via `torch.serialization.add_safe_globals`. We recommend you start setting `weights_only=True` for any use case where you don't have full control of the loaded file. Please open an issue on GitHub for any issues related to this experimental feature.\n",
      "  model.load_state_dict(torch.load(model_path))\n"
     ]
    },
    {
     "data": {
      "text/plain": [
       "<All keys matched successfully>"
      ]
     },
     "execution_count": 15,
     "metadata": {},
     "output_type": "execute_result"
    }
   ],
   "source": [
    "# load model from saved file\n",
    "model = MultiLabelBERT_Readability(\n",
    "    BERT_MODEL_NAME,\n",
    "    NUM_VAGUENESS_LABLES,\n",
    "    NUM_READABILITY_LABELS,\n",
    ").to(device)\n",
    "\n",
    "model.load_state_dict(torch.load(model_path))"
   ]
  },
  {
   "cell_type": "code",
   "execution_count": 16,
   "id": "45bbb36c",
   "metadata": {},
   "outputs": [
    {
     "name": "stdout",
     "output_type": "stream",
     "text": [
      "  Average validation loss: 2.5687525868415833\n",
      "  Accuracy Vagueness: 0.5046471357345581\n",
      "  Accuracy Readability: 0.19104991853237152\n"
     ]
    }
   ],
   "source": [
    "# evaluate the model\n",
    "model.eval()\n",
    "total_val_loss = 0\n",
    "\n",
    "with torch.no_grad():\n",
    "    for batch_idx, batch in enumerate(val_dataloader):\n",
    "        input_ids = batch[\"input_ids\"].to(device)\n",
    "        attention_mask = batch[\"attention_mask\"].to(device)\n",
    "        labels = batch[\"labels\"].to(device)\n",
    "        token_mask = batch[\"token_mask\"].to(device)\n",
    "\n",
    "        batch_size = input_ids.shape[0]\n",
    "\n",
    "        assert labels.shape == (batch_size, MAX_LEN, 2)\n",
    "        assert token_mask.shape == (batch_size, MAX_LEN)\n",
    "\n",
    "        outputs = model(input_ids, attention_mask)  # Get the raw model output\n",
    "        vagueness_logits, readability_logits = (\n",
    "            outputs[0],\n",
    "            outputs[1],\n",
    "        )  # If your model returns a tuple\n",
    "\n",
    "        # Apply token mask in validation too!\n",
    "        active_indices = torch.where(token_mask.view(-1) == 1)[\n",
    "            0\n",
    "        ]  # Get indices of valid tokens\n",
    "\n",
    "        active_vagueness_logits = vagueness_logits.view(-1, NUM_VAGUENESS_LABLES)[\n",
    "            active_indices\n",
    "        ]\n",
    "        active_readability_logits = readability_logits.view(\n",
    "            -1, NUM_READABILITY_LABELS\n",
    "        )[active_indices]\n",
    "\n",
    "        active_labels_vagueness = labels[:, :, 0].reshape(-1)[active_indices]\n",
    "        active_labels_readability = labels[:, :, 1].reshape(-1)[\n",
    "            active_indices\n",
    "        ]\n",
    "\n",
    "        # Check shapes *right before* loss\n",
    "        assert active_vagueness_logits.shape[0] == active_labels_vagueness.shape[0]\n",
    "\n",
    "        vagueness_loss_fn = torch.nn.CrossEntropyLoss(ignore_index=-100)\n",
    "        readability_loss_fn = torch.nn.CrossEntropyLoss(ignore_index=-100)\n",
    "\n",
    "        vagueness_loss = vagueness_loss_fn(active_vagueness_logits, active_labels_vagueness)\n",
    "        readability_loss = readability_loss_fn(\n",
    "            active_readability_logits, active_labels_readability\n",
    "        )\n",
    "\n",
    "        loss = vagueness_loss + readability_loss\n",
    "        total_val_loss += loss.item()\n",
    "\n",
    "        # mask out -100 labels\n",
    "    vagueness_mask = active_labels_vagueness != -100\n",
    "    readability_mask = active_labels_readability != -100\n",
    "    pred_vagueness = active_vagueness_logits[vagueness_mask]\n",
    "    true_vagueness = active_labels_vagueness[vagueness_mask]\n",
    "    pred_readability = active_readability_logits[readability_mask]\n",
    "    true_readability = active_labels_readability[readability_mask]\n",
    "    avg_val_loss = total_val_loss / len(val_dataloader)\n",
    "    accuracy_vagueness = (pred_vagueness.argmax(dim=1) == true_vagueness).float().mean()\n",
    "    accuracy_readability = (pred_readability.argmax(dim=1) == true_readability).float().mean()\n",
    "    \n",
    "    print(f\"  Average validation loss: {avg_val_loss}\")\n",
    "    print(f\"  Accuracy Vagueness: {accuracy_vagueness.item()}\")\n",
    "    print(f\"  Accuracy Readability: {accuracy_readability.item()}\")"
   ]
  },
  {
   "cell_type": "code",
   "execution_count": 17,
   "id": "c655ecd2",
   "metadata": {},
   "outputs": [
    {
     "data": {
      "image/png": "[encoded data removed]",
      "text/plain": [
       "<Figure size 1200x500 with 4 Axes>"
      ]
     },
     "metadata": {},
     "output_type": "display_data"
    }
   ],
   "source": [
    "# confusion matrix\n",
    "cm_vagueness = confusion_matrix(true_vagueness.cpu(), pred_vagueness.argmax(dim=1).cpu())\n",
    "cm_readability = confusion_matrix(true_readability.cpu(), pred_readability.argmax(dim=1).cpu())\n",
    "\n",
    "# plot confusion matrix\n",
    "plt.figure(figsize=(12, 5))\n",
    "plt.subplot(1, 2, 1)\n",
    "sns.heatmap(cm_vagueness, annot=True, fmt=\"d\", cmap=\"Blues\")\n",
    "plt.title(f\"Vagueness Confusion Matrix - total tokens: {len(pred_vagueness)}\")\n",
    "plt.xlabel(\"Predicted\")\n",
    "plt.ylabel(\"True\")\n",
    "plt.subplot(1, 2, 2)\n",
    "sns.heatmap(cm_readability, annot=True, fmt=\"d\", cmap=\"Blues\")\n",
    "plt.title(f\"Readability Confusion Matrix - total tokens: {len(pred_readability)}\")\n",
    "plt.xlabel(\"Predicted\")\n",
    "plt.ylabel(\"True\")\n",
    "plt.tight_layout()\n",
    "plt.show()\n"
   ]
  },
  {
   "cell_type": "code",
   "execution_count": null,
   "id": "78454ea7",
   "metadata": {},
   "outputs": [],
   "source": []
  }
 ],
 "metadata": {
  "kernelspec": {
   "display_name": "machine-learning",
   "language": "python",
   "name": "python3"
  },
  "language_info": {
   "codemirror_mode": {
    "name": "ipython",
    "version": 3
   },
   "file_extension": ".py",
   "mimetype": "text/x-python",
   "name": "python",
   "nbconvert_exporter": "python",
   "pygments_lexer": "ipython3",
   "version": "3.11.10"
  }
 },
 "nbformat": 4,
 "nbformat_minor": 5
}
