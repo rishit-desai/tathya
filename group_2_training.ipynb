{
 "cells": [
  {
   "cell_type": "code",
   "execution_count": 13,
   "id": "77994192",
   "metadata": {},
   "outputs": [],
   "source": [
    "import os\n",
    "os.environ[\"KMP_DUPLICATE_LIB_OK\"] = \"True\"\n",
    "from sklearn.metrics import confusion_matrix\n",
    "from sklearn.model_selection import train_test_split\n",
    "import matplotlib.pyplot as plt\n",
    "import seaborn as sns\n",
    "import pandas as pd\n",
    "import numpy as np\n",
    "import torch\n",
    "from torch.utils.data import Dataset, DataLoader\n",
    "from transformers import (\n",
    "    BertTokenizer,\n",
    "    BertModel,\n",
    "    AdamW,\n",
    "    get_linear_schedule_with_warmup,\n",
    ")\n",
    "import json\n",
    "from tqdm import tqdm  #   For progress bars\n",
    "from typing import List, Dict, Tuple\n",
    "\n",
    "\n",
    "\n",
    "\n",
    "\n",
    "NUM_HYPERBOLE_LABLES = 2\n",
    "\n",
    "NUM_SENTIMENT_ANALYSIS_LABELS = 6\n",
    "\n",
    "\n",
    "\n",
    "\n",
    "\n",
    "BERT_MODEL_NAME = \"bert-base-uncased\"\n",
    "\n",
    "MAX_LEN = 512\n",
    "\n",
    "BATCH_SIZE = 10\n",
    "\n",
    "EPOCHS = 5\n",
    "\n",
    "LEARNING_RATE = 2e-5\n",
    "DATASET_SIZE = 1000"
   ]
  },
  {
   "cell_type": "code",
   "execution_count": null,
   "id": "e6151f98",
   "metadata": {},
   "outputs": [],
   "source": [
    "#   1. Data Loading and Preprocessing\n",
    "def load_data(file_paths):\n",
    "    \"\"\"Loads data from JSON files.\"\"\"\n",
    "    data = []\n",
    "    for file_path in file_paths:\n",
    "        with open(file_path, \"r\") as f:\n",
    "            data.append(json.load(f))\n",
    "    return data\n",
    "\n",
    "def create_multilabels(tokens: Dict[str, Dict]) -> Dict[str, List[int]]:\n",
    "    \"\"\"\n",
    "    Creates multi-labels for each token, handling missing labels.\n",
    "    \"\"\"\n",
    "    multi_labels = {}\n",
    "    for token, annotations in tokens.items():\n",
    "        hyperbole = annotations.get(\"model_Hyperbole\", -100)  #   Use .get() with default\n",
    "        sentiment = annotations.get(\"model_Sentiment Analysis\", -100)\n",
    "        multi_labels[token] = [hyperbole, sentiment]\n",
    "    return multi_labels\n",
    "\n",
    "def align_labels_with_tokens(\n",
    "    tokens: List[str], labels: List[List[int]], tokenizer: BertTokenizer\n",
    ") -> Tuple[List[str], List[List[int]], List[int]]:\n",
    "    \"\"\"\n",
    "    Aligns labels with sub-word tokens produced by the BERT tokenizer.\n",
    "    Assigns the same label to all sub-words of a token.\n",
    "    \"\"\"\n",
    "\n",
    "    aligned_tokens = []\n",
    "    aligned_labels = []\n",
    "    token_masks = []\n",
    "\n",
    "    for i, token in enumerate(tokens):\n",
    "        subword_tokens = tokenizer.tokenize(\n",
    "            token\n",
    "        )  #   Important: No add_prefix_space here\n",
    "        token_labels = labels[i]\n",
    "        aligned_tokens.extend(subword_tokens)\n",
    "        aligned_labels.extend([token_labels] * len(subword_tokens))  #   Repeat labels\n",
    "        token_masks.extend([1] * len(subword_tokens))  # 1 for real tokens\n",
    "\n",
    "    return aligned_tokens, aligned_labels, token_masks\n",
    "\n",
    "def preprocess_data(\n",
    "    data: List[Dict], tokenizer: BertTokenizer, max_len: int\n",
    ") -> List[Dict]:\n",
    "    \"\"\"\n",
    "    Preprocesses the data, extracting tokens, text, and creating multi-labels.\n",
    "    Truncates texts to max_len tokens *after* sub-word tokenization.\n",
    "    \"\"\"\n",
    "\n",
    "    processed_data = []\n",
    "    for item in data:\n",
    "        text = \" \".join(item[\"tokens\"].keys())\n",
    "        tokens = list(item[\"tokens\"].keys())\n",
    "        labels = list(create_multilabels(item[\"tokens\"]).values())\n",
    "\n",
    "        aligned_tokens, aligned_labels, token_masks = align_labels_with_tokens(\n",
    "            tokens, labels, tokenizer\n",
    "        )\n",
    "\n",
    "        #   Truncate *aligned* tokens and labels if they exceed max_len\n",
    "        if len(aligned_tokens) > max_len:\n",
    "            aligned_tokens = aligned_tokens[:max_len]\n",
    "            aligned_labels = aligned_labels[:max_len]\n",
    "            token_masks = token_masks[:max_len]\n",
    "            text = tokenizer.decode(\n",
    "                tokenizer.convert_tokens_to_ids(aligned_tokens)\n",
    "            )  #   Reconstruct text (approximate)\n",
    "\n",
    "        processed_data.append(\n",
    "            {\n",
    "                \"text\": text,\n",
    "                \"tokens\": aligned_tokens,\n",
    "                \"labels\": aligned_labels,\n",
    "                \"token_masks\": token_masks,\n",
    "            }\n",
    "        )\n",
    "    return processed_data\n",
    "\n",
    "class TokenDataset(Dataset):\n",
    "    \"\"\"Dataset for token classification.\"\"\"\n",
    "\n",
    "    def __init__(self, texts, labels, tokenizer, max_len, token_masks):\n",
    "        self.texts = texts\n",
    "        self.labels = labels\n",
    "        self.tokenizer = tokenizer\n",
    "        self.max_len = max_len  # Store max_len\n",
    "        self.token_masks = token_masks\n",
    "\n",
    "    def __len__(self):\n",
    "        return len(self.texts)\n",
    "\n",
    "    def __getitem__(self, item):\n",
    "        text = str(self.texts[item])\n",
    "        labels = self.labels[item]\n",
    "        token_mask = self.token_masks[item]\n",
    "        encoding = self.tokenizer.encode_plus(\n",
    "            text,\n",
    "            add_special_tokens=True,\n",
    "            max_length=self.max_len,  # Use self.max_len\n",
    "            padding=\"max_length\",\n",
    "            truncation=True,\n",
    "            return_tensors=\"pt\",\n",
    "        )\n",
    "\n",
    "        padded_labels = torch.full(\n",
    "            (self.max_len, 2), -100, dtype=torch.long  # Use self.max_len\n",
    "        )\n",
    "        padded_labels[: len(labels), :] = torch.tensor(labels, dtype=torch.long)\n",
    "\n",
    "        padded_mask = torch.zeros(self.max_len, dtype=torch.long)  # Use self.max_len\n",
    "        padded_mask[: len(token_mask)] = torch.tensor(\n",
    "            token_mask, dtype=torch.long\n",
    "        )\n",
    "\n",
    "        return {\n",
    "            \"input_ids\": encoding[\"input_ids\"].flatten(),\n",
    "            \"attention_mask\": encoding[\"attention_mask\"].flatten(),\n",
    "            \"labels\": padded_labels,\n",
    "            \"token_mask\": padded_mask,\n",
    "        }\n",
    "\n",
    "class MultiLabelBERT_Sentiment(torch.nn.Module):\n",
    "    \"\"\"BERT model for multi-label token classification.\"\"\"\n",
    "\n",
    "    def __init__(\n",
    "        self,\n",
    "        bert_model_name,\n",
    "        num_hyperbol_labels,\n",
    "        num_sentiment_labels\n",
    "    ):\n",
    "        super(MultiLabelBERT_Sentiment, self).__init__()\n",
    "        self.bert = BertModel.from_pretrained(bert_model_name)\n",
    "        self.hyperbole_classifier = torch.nn.Linear(\n",
    "            self.bert.config.hidden_size, num_hyperbol_labels\n",
    "        )\n",
    "        self.sentiment_classifier = torch.nn.Linear(\n",
    "            self.bert.config.hidden_size, num_sentiment_labels\n",
    "        )\n",
    "        \n",
    "\n",
    "    def forward(self, input_ids, attention_mask):\n",
    "        outputs = self.bert(input_ids, attention_mask=attention_mask)\n",
    "        sequence_output = (\n",
    "            outputs.last_hidden_state\n",
    "        )  # (batch_size, max_len, hidden_size)\n",
    "\n",
    "        hyperbole_logits = self.hyperbole_classifier(sequence_output)\n",
    "        sentiment_logits = self.sentiment_classifier(sequence_output)\n",
    "\n",
    "        return hyperbole_logits, sentiment_logits"
   ]
  },
  {
   "cell_type": "code",
   "execution_count": 3,
   "id": "1fb9e5c0",
   "metadata": {},
   "outputs": [],
   "source": [
    "def train(\n",
    "    model, train_dataloader, val_dataloader, optimizer, scheduler, device, epochs\n",
    "):\n",
    "    \"\"\"Trains the model.\"\"\"\n",
    "\n",
    "    for epoch in range(epochs):\n",
    "        model.train()\n",
    "        total_train_loss = 0\n",
    "        for batch_idx, batch in enumerate(\n",
    "            tqdm(train_dataloader, desc=f\"Epoch {epoch+1}\")\n",
    "        ):\n",
    "            input_ids = batch[\"input_ids\"].to(device)\n",
    "            attention_mask = batch[\"attention_mask\"].to(device)\n",
    "            labels = batch[\"labels\"].to(device)  # Shape: (batch_size, max_len, 2)\n",
    "            token_mask = batch[\"token_mask\"].to(device)  # Shape: (batch_size, max_len)\n",
    "\n",
    "            batch_size = input_ids.shape[0]\n",
    "\n",
    "            assert labels.shape == (batch_size, MAX_LEN, 2)\n",
    "            assert token_mask.shape == (batch_size, MAX_LEN)\n",
    "\n",
    "            model.zero_grad()\n",
    "            outputs = model(input_ids, attention_mask)  # Get the raw model output\n",
    "            hyperbole_logits, sentiment_logits = (\n",
    "                outputs[0],\n",
    "                outputs[1]\n",
    "            )  # If your model returns a tuple\n",
    "\n",
    "            hyperbole_loss_fn = torch.nn.CrossEntropyLoss(ignore_index=-100)\n",
    "            sentiment_loss_fn = torch.nn.CrossEntropyLoss(ignore_index=-100)\n",
    "\n",
    "            #   Apply token mask to filter predictions and labels\n",
    "            #   Crucially, we flatten *before* applying the mask\n",
    "            active_hyperbole_logits = hyperbole_logits.view(\n",
    "                -1, NUM_HYPERBOLE_LABLES\n",
    "            )  # Shape: (batch_size * max_len, num_labels)\n",
    "            active_sentiment_logits = sentiment_logits.view(\n",
    "                -1, NUM_SENTIMENT_ANALYSIS_LABELS\n",
    "            )\n",
    "\n",
    "            active_labels_hyperbole = labels[:, :, 0].reshape(\n",
    "                -1\n",
    "            )  # Shape: (batch_size * max_len,)\n",
    "            active_labels_sentiment = labels[:, :, 1].reshape(-1)\n",
    "\n",
    "            assert active_hyperbole_logits.shape[0] == batch_size * MAX_LEN\n",
    "            assert active_labels_hyperbole.shape[0] == batch_size * MAX_LEN\n",
    "\n",
    "            #   Apply the mask *after* flattening\n",
    "            #   CRUCIAL CHANGE: Adjust mask for [CLS] token\n",
    "            active_indices = torch.where(token_mask.view(-1) == 1)[\n",
    "                0\n",
    "            ]  # Get indices of valid tokens\n",
    "            active_hyperbole_logits = active_hyperbole_logits[active_indices]\n",
    "            active_sentiment_logits = active_sentiment_logits[active_indices]\n",
    "\n",
    "            active_labels_hyperbole = active_labels_hyperbole[active_indices]\n",
    "            active_labels_sentiment = active_labels_sentiment[active_indices]\n",
    "\n",
    "            #   Check shapes *right before* loss\n",
    "            assert active_hyperbole_logits.shape[0] == active_labels_hyperbole.shape[0]\n",
    "\n",
    "            hyperbole_loss = hyperbole_loss_fn(active_hyperbole_logits, active_labels_hyperbole)\n",
    "            sentiment_loss = sentiment_loss_fn(\n",
    "                active_sentiment_logits, active_labels_sentiment\n",
    "            )\n",
    "            \n",
    "\n",
    "            loss = hyperbole_loss + sentiment_loss\n",
    "            total_train_loss += loss.item()\n",
    "            loss.backward()\n",
    "            optimizer.step()\n",
    "            scheduler.step()\n",
    "\n",
    "        avg_train_loss = total_train_loss / len(train_dataloader)\n",
    "        print(f\"  Average training loss: {avg_train_loss}\")\n",
    "\n",
    "        #   Validation (Simplified - No metrics here)\n",
    "        model.eval()\n",
    "        total_val_loss = 0\n",
    "        with torch.no_grad():\n",
    "            for batch_idx, batch in enumerate(val_dataloader):\n",
    "                input_ids = batch[\"input_ids\"].to(device)\n",
    "                attention_mask = batch[\"attention_mask\"].to(device)\n",
    "                labels = batch[\"labels\"].to(device)\n",
    "                token_mask = batch[\"token_mask\"].to(device)\n",
    "\n",
    "                batch_size = input_ids.shape[0]\n",
    "\n",
    "                assert labels.shape == (batch_size, MAX_LEN, 2)\n",
    "                assert token_mask.shape == (batch_size, MAX_LEN)\n",
    "\n",
    "                outputs = model(input_ids, attention_mask)  # Get the raw model output\n",
    "                hyperbole_logits, sentiment_logits = (\n",
    "                    outputs[0],\n",
    "                    outputs[1],\n",
    "                )  # If your model returns a tuple\n",
    "\n",
    "                # Apply token mask in validation too!\n",
    "                active_indices = torch.where(token_mask.view(-1) == 1)[\n",
    "                    0\n",
    "                ]  # Get indices of valid tokens\n",
    "\n",
    "                active_hyperbole_logits = hyperbole_logits.view(-1, NUM_HYPERBOLE_LABLES)[\n",
    "                    active_indices\n",
    "                ]\n",
    "                active_sentiment_logits = sentiment_logits.view(\n",
    "                    -1, NUM_SENTIMENT_ANALYSIS_LABELS\n",
    "                )[active_indices]\n",
    "\n",
    "                active_labels_hyperbole = labels[:, :, 0].reshape(-1)[active_indices]\n",
    "                active_labels_sentiment = labels[:, :, 1].reshape(-1)[\n",
    "                    active_indices\n",
    "                ]\n",
    "\n",
    "                # Check shapes *right before* loss\n",
    "                assert active_hyperbole_logits.shape[0] == active_labels_hyperbole.shape[0]\n",
    "\n",
    "                hyperbole_loss = hyperbole_loss_fn(active_hyperbole_logits, active_labels_hyperbole)\n",
    "                sentiment_loss = sentiment_loss_fn(\n",
    "                    active_sentiment_logits, active_labels_sentiment\n",
    "                )\n",
    "\n",
    "                loss = hyperbole_loss + sentiment_loss\n",
    "                total_val_loss += loss.item()\n",
    "\n",
    "            avg_val_loss = total_val_loss / len(val_dataloader)\n",
    "            print(f\"  Average validation loss: {avg_val_loss}\")"
   ]
  },
  {
   "cell_type": "code",
   "execution_count": 4,
   "id": "e05cfee3",
   "metadata": {},
   "outputs": [],
   "source": [
    "tokenizer = BertTokenizer.from_pretrained(BERT_MODEL_NAME)"
   ]
  },
  {
   "cell_type": "code",
   "execution_count": 5,
   "id": "b849d043",
   "metadata": {},
   "outputs": [],
   "source": [
    "# pad file number to 6 digits\n",
    "file_paths = [f\"dataset/article_{i:06d}.json\" for i in range(DATASET_SIZE)]\n",
    "data = load_data(file_paths)\n",
    "tokenizer = BertTokenizer.from_pretrained(BERT_MODEL_NAME)\n",
    "processed_data = preprocess_data(data, tokenizer=tokenizer, max_len=MAX_LEN)"
   ]
  },
  {
   "cell_type": "code",
   "execution_count": 6,
   "id": "bf9cc8ad",
   "metadata": {},
   "outputs": [],
   "source": [
    "train_data, val_data = train_test_split(processed_data, test_size=0.2, random_state=42)"
   ]
  },
  {
   "cell_type": "code",
   "execution_count": 7,
   "id": "1a8a0725",
   "metadata": {},
   "outputs": [],
   "source": [
    "#   Create Datasets and DataLoaders\n",
    "train_dataset = TokenDataset(\n",
    "    texts=[item[\"text\"] for item in train_data],\n",
    "    labels=[item[\"labels\"] for item in train_data],\n",
    "    tokenizer=tokenizer,\n",
    "    max_len=MAX_LEN,\n",
    "    token_masks=[item[\"token_masks\"] for item in train_data],\n",
    ")\n",
    "val_dataset = TokenDataset(\n",
    "    texts=[item[\"text\"] for item in val_data],\n",
    "    labels=[item[\"labels\"] for item in val_data],\n",
    "    tokenizer=tokenizer,\n",
    "    max_len=MAX_LEN,\n",
    "    token_masks=[item[\"token_masks\"] for item in val_data],\n",
    ")"
   ]
  },
  {
   "cell_type": "code",
   "execution_count": 8,
   "id": "6a05f97e",
   "metadata": {},
   "outputs": [],
   "source": [
    "train_dataloader = DataLoader(train_dataset, batch_size=BATCH_SIZE, shuffle=True)\n",
    "val_dataloader = DataLoader(val_dataset, batch_size=BATCH_SIZE)"
   ]
  },
  {
   "cell_type": "code",
   "execution_count": 9,
   "id": "cbe82661",
   "metadata": {},
   "outputs": [
    {
     "name": "stderr",
     "output_type": "stream",
     "text": [
      "c:\\Users\\rishi\\.conda\\envs\\machine-learning\\Lib\\site-packages\\transformers\\optimization.py:591: FutureWarning: This implementation of AdamW is deprecated and will be removed in a future version. Use the PyTorch implementation torch.optim.AdamW instead, or set `no_deprecation_warning=True` to disable this warning\n",
      "  warnings.warn(\n"
     ]
    }
   ],
   "source": [
    "#   Initialize Model, Optimizer, and Scheduler\n",
    "device = torch.device(\"cuda\" if torch.cuda.is_available() else \"cpu\")\n",
    "model = MultiLabelBERT_Sentiment(\n",
    "    BERT_MODEL_NAME,\n",
    "    NUM_HYPERBOLE_LABLES,\n",
    "    NUM_SENTIMENT_ANALYSIS_LABELS,\n",
    ").to(device)\n",
    "optimizer = AdamW(model.parameters(), lr=LEARNING_RATE)\n",
    "total_steps = len(train_dataloader) * EPOCHS\n",
    "scheduler = get_linear_schedule_with_warmup(\n",
    "    optimizer, num_warmup_steps=0, num_training_steps=total_steps\n",
    ")"
   ]
  },
  {
   "cell_type": "code",
   "execution_count": 10,
   "id": "05806333",
   "metadata": {},
   "outputs": [
    {
     "name": "stderr",
     "output_type": "stream",
     "text": [
      "Epoch 1: 100%|██████████| 80/80 [10:46<00:00,  8.09s/it]\n"
     ]
    },
    {
     "name": "stdout",
     "output_type": "stream",
     "text": [
      "  Average training loss: 2.35170539021492\n",
      "  Average validation loss: 2.3194031953811645\n"
     ]
    },
    {
     "name": "stderr",
     "output_type": "stream",
     "text": [
      "Epoch 2: 100%|██████████| 80/80 [10:50<00:00,  8.14s/it]\n"
     ]
    },
    {
     "name": "stdout",
     "output_type": "stream",
     "text": [
      "  Average training loss: 2.313811469078064\n",
      "  Average validation loss: 2.319081974029541\n"
     ]
    },
    {
     "name": "stderr",
     "output_type": "stream",
     "text": [
      "Epoch 3: 100%|██████████| 80/80 [10:49<00:00,  8.12s/it]\n"
     ]
    },
    {
     "name": "stdout",
     "output_type": "stream",
     "text": [
      "  Average training loss: 2.3044605940580367\n",
      "  Average validation loss: 2.318850815296173\n"
     ]
    },
    {
     "name": "stderr",
     "output_type": "stream",
     "text": [
      "Epoch 4: 100%|██████████| 80/80 [10:48<00:00,  8.10s/it]\n"
     ]
    },
    {
     "name": "stdout",
     "output_type": "stream",
     "text": [
      "  Average training loss: 2.286860817670822\n",
      "  Average validation loss: 2.308656406402588\n"
     ]
    },
    {
     "name": "stderr",
     "output_type": "stream",
     "text": [
      "Epoch 5: 100%|██████████| 80/80 [10:48<00:00,  8.10s/it]\n"
     ]
    },
    {
     "name": "stdout",
     "output_type": "stream",
     "text": [
      "  Average training loss: 2.2685953855514525\n",
      "  Average validation loss: 2.318317186832428\n"
     ]
    }
   ],
   "source": [
    "#   Train the Model\n",
    "train(model, train_dataloader, val_dataloader, optimizer, scheduler, device, EPOCHS)"
   ]
  },
  {
   "cell_type": "code",
   "execution_count": 10,
   "id": "28eaedd3",
   "metadata": {},
   "outputs": [],
   "source": [
    "model_path = \"group_2_model.pth\""
   ]
  },
  {
   "cell_type": "code",
   "execution_count": 11,
   "id": "520fa9a7",
   "metadata": {},
   "outputs": [
    {
     "name": "stdout",
     "output_type": "stream",
     "text": [
      "Model saved to group_2_model.pth\n"
     ]
    }
   ],
   "source": [
    "# save the torch model\n",
    "torch.save(model.state_dict(), model_path)\n",
    "print(f\"Model saved to {model_path}\")"
   ]
  },
  {
   "cell_type": "code",
   "execution_count": 11,
   "id": "4e0ce1b9",
   "metadata": {},
   "outputs": [
    {
     "name": "stderr",
     "output_type": "stream",
     "text": [
      "C:\\Users\\rishi\\AppData\\Local\\Temp\\ipykernel_35136\\1166673028.py:7: FutureWarning: You are using `torch.load` with `weights_only=False` (the current default value), which uses the default pickle module implicitly. It is possible to construct malicious pickle data which will execute arbitrary code during unpickling (See https://github.com/pytorch/pytorch/blob/main/SECURITY.md#untrusted-models for more details). In a future release, the default value for `weights_only` will be flipped to `True`. This limits the functions that could be executed during unpickling. Arbitrary objects will no longer be allowed to be loaded via this mode unless they are explicitly allowlisted by the user via `torch.serialization.add_safe_globals`. We recommend you start setting `weights_only=True` for any use case where you don't have full control of the loaded file. Please open an issue on GitHub for any issues related to this experimental feature.\n",
      "  model.load_state_dict(torch.load(model_path))\n"
     ]
    },
    {
     "data": {
      "text/plain": [
       "<All keys matched successfully>"
      ]
     },
     "execution_count": 11,
     "metadata": {},
     "output_type": "execute_result"
    }
   ],
   "source": [
    "# load model from file\n",
    "model = MultiLabelBERT_Sentiment(\n",
    "    BERT_MODEL_NAME,\n",
    "    NUM_HYPERBOLE_LABLES,\n",
    "    NUM_SENTIMENT_ANALYSIS_LABELS,\n",
    ").to(device)\n",
    "model.load_state_dict(torch.load(model_path))"
   ]
  },
  {
   "cell_type": "code",
   "execution_count": 22,
   "id": "f77fbecd",
   "metadata": {},
   "outputs": [],
   "source": [
    "# evaluate the model\n",
    "model.eval()\n",
    "total_val_loss = 0\n",
    "correct_predictions = 0\n",
    "total_predictions = 0\n",
    "\n",
    "with torch.no_grad():\n",
    "    for batch in val_dataloader:\n",
    "        input_ids = batch[\"input_ids\"].to(device)\n",
    "        attention_mask = batch[\"attention_mask\"].to(device)\n",
    "        labels = batch[\"labels\"].to(device)\n",
    "        token_mask = batch[\"token_mask\"].to(device)\n",
    "\n",
    "        outputs = model(input_ids, attention_mask)\n",
    "        hyperbole_logits, sentiment_logits = outputs\n",
    "\n",
    "        #   Apply token mask in evaluation too!\n",
    "        active_indices = torch.where(token_mask.view(-1) == 1)[0]  # Get indices of valid tokens\n",
    "\n",
    "        active_hyperbole_logits = hyperbole_logits.view(-1, NUM_HYPERBOLE_LABLES)[active_indices]\n",
    "        active_sentiment_logits = sentiment_logits.view(-1, NUM_SENTIMENT_ANALYSIS_LABELS)[active_indices]\n",
    "\n",
    "        active_labels_hyperbole = labels[:, :, 0].reshape(-1)[active_indices]\n",
    "        active_labels_sentiment = labels[:, :, 1].reshape(-1)[active_indices]\n",
    "\n",
    "        #   Check shapes *right before* loss\n",
    "        assert active_hyperbole_logits.shape[0] == active_labels_hyperbole.shape[0]\n",
    "\n",
    "        hyperbole_loss_fn = torch.nn.CrossEntropyLoss(ignore_index=-100)\n",
    "        sentiment_loss_fn = torch.nn.CrossEntropyLoss(ignore_index=-100)\n",
    "\n",
    "        hyperbole_loss = hyperbole_loss_fn(active_hyperbole_logits, active_labels_hyperbole)\n",
    "        sentiment_loss = sentiment_loss_fn(active_sentiment_logits, active_labels_sentiment)\n",
    "\n",
    "        loss = hyperbole_loss + sentiment_loss\n",
    "        total_val_loss += loss.item()\n",
    "\n",
    "        #   Get predictions\n",
    "        hyperbole_preds = torch.argmax(active_hyperbole_logits, dim=1)\n",
    "        sentiment_preds = torch.argmax(active_sentiment_logits, dim=1)"
   ]
  },
  {
   "cell_type": "code",
   "execution_count": 23,
   "id": "aafb53db",
   "metadata": {},
   "outputs": [
    {
     "name": "stdout",
     "output_type": "stream",
     "text": [
      "  Average validation loss: 2.318317186832428\n",
      "  Hyperbole Accuracy: 0.452991452991453\n",
      "  Sentiment Accuracy: 0.21996557659208263\n"
     ]
    },
    {
     "data": {
      "image/png": "[encoded data removed]",
      "text/plain": [
       "<Figure size 640x480 with 1 Axes>"
      ]
     },
     "metadata": {},
     "output_type": "display_data"
    },
    {
     "data": {
      "image/png": "[encoded data removed]",
      "text/plain": [
       "<Figure size 640x480 with 1 Axes>"
      ]
     },
     "metadata": {},
     "output_type": "display_data"
    }
   ],
   "source": [
    "# mask out -100 labels for accuracy calculation\n",
    "sentiment_mask = active_labels_sentiment != -100\n",
    "hyperbole_mask = active_labels_hyperbole != -100\n",
    "sentiment_preds = sentiment_preds[sentiment_mask]\n",
    "sentiment_true_labels = active_labels_sentiment[sentiment_mask]\n",
    "hyperbole_preds = hyperbole_preds[hyperbole_mask]\n",
    "hyperbole_true_labels = active_labels_hyperbole[hyperbole_mask]\n",
    "sentiment_accuracy = (sentiment_preds == sentiment_true_labels).sum().item() / len(\n",
    "    sentiment_true_labels\n",
    ")\n",
    "hyperbole_accuracy = (hyperbole_preds == hyperbole_true_labels).sum().item() / len(\n",
    "    hyperbole_true_labels\n",
    ")\n",
    "avg_val_loss = total_val_loss / len(val_dataloader)\n",
    "print(f\"  Average validation loss: {avg_val_loss}\")\n",
    "\n",
    "# confusion matrix\n",
    "cm_hyperbole = confusion_matrix(\n",
    "    hyperbole_true_labels.cpu().numpy(), hyperbole_preds.cpu().numpy(), labels=[0, 1]\n",
    ")\n",
    "cm_sentiment = confusion_matrix(\n",
    "    sentiment_true_labels.cpu().numpy(),\n",
    "    sentiment_preds.cpu().numpy(),\n",
    "    labels=[0, 1, 2, 3, 4, 5],\n",
    ")\n",
    "sns.heatmap(\n",
    "    cm_hyperbole, annot=True, fmt=\"d\", cmap=\"Blues\", cbar=False\n",
    ")\n",
    "plt.title(\"Hyperbole Confusion Matrix\")\n",
    "plt.xlabel(\"Predicted\")\n",
    "plt.ylabel(\"True\")\n",
    "plt.show()\n",
    "\n",
    "sns.heatmap(\n",
    "    cm_sentiment, annot=True, fmt=\"d\", cmap=\"Blues\", cbar=False\n",
    ")\n",
    "plt.title(\"Sentiment Confusion Matrix\")\n",
    "plt.xlabel(\"Predicted\")\n",
    "plt.ylabel(\"True\")\n",
    "plt.show()"
   ]
  },
  {
   "cell_type": "code",
   "execution_count": null,
   "id": "3760ee71",
   "metadata": {},
   "outputs": [],
   "source": []
  }
 ],
 "metadata": {
  "kernelspec": {
   "display_name": "machine-learning",
   "language": "python",
   "name": "python3"
  },
  "language_info": {
   "codemirror_mode": {
    "name": "ipython",
    "version": 3
   },
   "file_extension": ".py",
   "mimetype": "text/x-python",
   "name": "python",
   "nbconvert_exporter": "python",
   "pygments_lexer": "ipython3",
   "version": "3.11.10"
  }
 },
 "nbformat": 4,
 "nbformat_minor": 5
}
